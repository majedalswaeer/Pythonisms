{
 "cells": [
  {
   "cell_type": "markdown",
   "metadata": {},
   "source": [
    "- ## Use iterators/generators on a custom collection to…\n",
    "    - ### add ability to be used in a for in loop\n",
    "    - ### add ability to be used in a list comprehension\n",
    "    - ### add ability to convert to a list or other collection type\n",
    "- ## Create a decorator that adds behavior to a given function. For example…\n",
    "    - ### Calculate the time spent in the function\n",
    "    - ### Log relevant info for debugging purposes\n",
    "    - ### Slow down the function\n",
    "    - ### Convert the return value in some way\n",
    "    - ### Validate some condition on the way in\n",
    "- ## Use dunder methods make your code more readable and elegant. For example…\n",
    "    - ### add ability for two custom data structure to be considered equal\n",
    "    - ### add ability for custom data structure to be considered truthy/falsy\n",
    "    "
   ]
  },
  {
   "cell_type": "markdown",
   "metadata": {},
   "source": [
    "## `Using iterators/Genaretors`"
   ]
  },
  {
   "cell_type": "code",
   "execution_count": 70,
   "metadata": {},
   "outputs": [],
   "source": [
    "def triples(start, stop):\n",
    "    \"\"\"[summary]\n",
    "                Fynctions to find triples for number from start and end arguments\n",
    "    Args:\n",
    "        start ([Int])\n",
    "        stop ([Int])\n",
    "\n",
    "    Yields:\n",
    "        [Int]: [Trples of each number]\n",
    "    \"\"\"\n",
    "    for i in range(start, stop):\n",
    "        yield i * i * i\n"
   ]
  },
  {
   "cell_type": "markdown",
   "metadata": {},
   "source": [
    "## `Using Decorators`"
   ]
  },
  {
   "cell_type": "code",
   "execution_count": 71,
   "metadata": {},
   "outputs": [],
   "source": [
    "from functools import wraps\n",
    "\n",
    "def replacer_wrap(func):\n",
    "\n",
    "  @wraps(func)\n",
    "\n",
    "  def wrapper(*args, **kwargs):\n",
    "    \"\"\" \n",
    "  [summary]\n",
    "  wrapper wrape function to replace a space with 20%\n",
    "\n",
    "    Returns:\n",
    "        [String]: [URL with replaced spaces]\n",
    "  \"\"\"\n",
    "    my_str =  func(*args, **kwargs)\n",
    "    my_list=list(my_str)\n",
    "    for i in range(len(my_list)):\n",
    "        if my_list[i]==' ':\n",
    "            my_list[i]='%20'\n",
    "    my_list_joined=''.join(my_list)\n",
    "    return my_list_joined\n",
    "\n",
    "  return wrapper\n",
    "\n",
    "\n",
    "@replacer_wrap\n",
    "def replacer(url):\n",
    "  \"\"\" \n",
    "  [summary]\n",
    "  Replacer replace a space with 20%\n",
    "\n",
    "    Returns:\n",
    "        [String]: [URL with replaced spaces]\n",
    "  \"\"\"\n",
    "\n",
    "  return url\n",
    "\n"
   ]
  },
  {
   "cell_type": "markdown",
   "metadata": {},
   "source": [
    "## `Using dunder methods`"
   ]
  },
  {
   "cell_type": "code",
   "execution_count": 72,
   "metadata": {},
   "outputs": [],
   "source": [
    "class Bank_Account:\n",
    "    def __init__(self, customer_name, balance=None):\n",
    "        self.account_name = customer_name\n",
    "        self.balance = balance\n",
    "    def __bool__(self):\n",
    "        if bool(self.balance):\n",
    "            return True\n",
    "        return False\n",
    "\n"
   ]
  },
  {
   "cell_type": "markdown",
   "metadata": {},
   "source": [
    "## `Tests`"
   ]
  },
  {
   "cell_type": "code",
   "execution_count": 73,
   "metadata": {},
   "outputs": [],
   "source": [
    "def test_1():\n",
    "    # Arrange \n",
    "    expected = [8, 27, 64]\n",
    "    \n",
    "    # Act\n",
    "    actual = list(triples(2,5))\n",
    "\n",
    "    # Assert\n",
    "    assert actual == expected\n",
    "test_1()"
   ]
  },
  {
   "cell_type": "code",
   "execution_count": 74,
   "metadata": {},
   "outputs": [],
   "source": [
    "def test_2():\n",
    "    # Arrange \n",
    "    expected = '\"http://code.org/hour%20of%20code.html\"'\n",
    "    \n",
    "    # Act\n",
    "    actual = replacer('\"http://code.org/hour of code.html\"')\n",
    "\n",
    "    # Assert\n",
    "    assert actual == expected\n",
    "test_2()"
   ]
  },
  {
   "cell_type": "code",
   "execution_count": 75,
   "metadata": {},
   "outputs": [],
   "source": [
    "def test_3():\n",
    "    # Arrange \n",
    "    acc = Bank_Account('majed',200)\n",
    "    expected = True\n",
    "\n",
    "    # Act\n",
    "    actual = bool(acc.balance)\n",
    "\n",
    "\n",
    "    # Assert\n",
    "    assert actual == expected\n",
    "test_3()\n",
    "\n",
    "# Case 2\n",
    "\n",
    "def test_4():\n",
    "    # Arrange \n",
    "    acc = Bank_Account('majed',0)\n",
    "    expected = False\n",
    "\n",
    "    # Act\n",
    "    actual = bool(acc.balance)\n",
    "\n",
    "\n",
    "    # Assert\n",
    "    assert actual == expected\n",
    "test_4()\n"
   ]
  }
 ],
 "metadata": {
  "interpreter": {
   "hash": "7d6993cb2f9ce9a59d5d7380609d9cb5192a9dedd2735a011418ad9e827eb538"
  },
  "kernelspec": {
   "display_name": "Python 3.9.7 64-bit",
   "language": "python",
   "name": "python3"
  },
  "language_info": {
   "codemirror_mode": {
    "name": "ipython",
    "version": 3
   },
   "file_extension": ".py",
   "mimetype": "text/x-python",
   "name": "python",
   "nbconvert_exporter": "python",
   "pygments_lexer": "ipython3",
   "version": "3.9.7"
  },
  "orig_nbformat": 4
 },
 "nbformat": 4,
 "nbformat_minor": 2
}
